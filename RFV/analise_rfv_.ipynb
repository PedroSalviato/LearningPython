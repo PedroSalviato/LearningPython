{
 "cells": [
  {
   "cell_type": "markdown",
   "id": "efbb88dc",
   "metadata": {
    "id": "efbb88dc"
   },
   "source": [
    "### 1. Introdução sobre Análise RFV"
   ]
  },
  {
   "cell_type": "markdown",
   "id": "734c88d1",
   "metadata": {
    "id": "734c88d1"
   },
   "source": [
    "<strong> O que é RFV? <strong> <br />\n",
    "    \n",
    "A análise de RFV é uma técnica de segmentação de clientes com base em três critérios principais: <br />\n",
    "    \n",
    "<strong> Recência (R - Recency):</strong> Avalia há quanto tempo um cliente fez sua última compra ou interagiu com a empresa.\n",
    "\n",
    "<strong>Frequência (F - Frequency): </strong>Analisa com que frequência um cliente faz compras ou interage com a empresa ao longo do tempo.\n",
    "\n",
    "<strong> Valor Monetário (V - Monetary Value): </strong>Mede quanto dinheiro um cliente gastou em suas transações com a empresa. <br/>\n",
    "\n",
    "Essa análise permite que a empresa segmente seus clientes de acordo com seu comportamento de compra e possibilita o direcionamento de estratégias de marketing específicas para cada grupo, seja para retenção de clientes valiosos, reativação de clientes inativos, análise do ciclo de vida dos clientes, enfim as possibilidades são diversas e com esse tipo de análise as empresas podem personalizar suas estratégias e ações em relação aos seus clientes. <br/>\n",
    "\n",
    "<strong> Algumas perguntas que vamos responder com base nessa análise </strong>  <br/>\n",
    "    \n",
    "- Quais são os melhores clientes ? Quais os comportamento desses clientes?\n",
    "- Quais são os clientes com risco de churn (abandono) ?\n",
    "- Quais clientes tem um maior potencial de ganho para a empresa?\n",
    "    \n",
    "Viu só que interessante esse assunto? Vamos ver na prática como fazer essa análise!"
   ]
  },
  {
   "cell_type": "markdown",
   "id": "b5023b95",
   "metadata": {
    "id": "b5023b95"
   },
   "source": [
    "### 2. Importando Bibliotecas"
   ]
  },
  {
   "cell_type": "code",
   "execution_count": 5,
   "id": "0d0ab908",
   "metadata": {
    "executionInfo": {
     "elapsed": 2331,
     "status": "ok",
     "timestamp": 1698347098995,
     "user": {
      "displayName": "Pedro Salviato (Pedro Salviato)",
      "userId": "03993106776007688607"
     },
     "user_tz": 180
    },
    "id": "0d0ab908"
   },
   "outputs": [],
   "source": [
    "# bibliotecas para tratamento de dados\n",
    "import pandas as pd\n",
    "import numpy as np\n",
    "\n",
    "# bibliotecas para criação de gráficos\n",
    "\n",
    "import matplotlib.pyplot as plt\n",
    "import seaborn as sns\n",
    "from matplotlib import colormaps\n",
    "\n",
    "# biblioteca para dados\n",
    "\n",
    "import calendar\n",
    "from datetime import datetime\n",
    "\n",
    "# Settings\n",
    "sns.set_palette('pastel')\n",
    "sns.set_theme(style = 'darkgrid')\n",
    "import warnings\n",
    "warnings.filterwarnings('ignore')\n",
    "from IPython.core.interactiveshell import InteractiveShell"
   ]
  },
  {
   "cell_type": "markdown",
   "id": "41e408e6",
   "metadata": {
    "id": "41e408e6"
   },
   "source": [
    "### 3. Carregando o Dataframe <br/>\n",
    "\n",
    "\n",
    "Link da base: https://github.com/PedroSalviato/Python/blob/main/RFV/customers.xlsx"
   ]
  },
  {
   "cell_type": "code",
   "execution_count": 7,
   "id": "251d8c6d",
   "metadata": {
    "colab": {
     "base_uri": "https://localhost:8080/",
     "height": 143
    },
    "executionInfo": {
     "elapsed": 22108,
     "status": "ok",
     "timestamp": 1698347122809,
     "user": {
      "displayName": "Pedro Salviato (Pedro Salviato)",
      "userId": "03993106776007688607"
     },
     "user_tz": 180
    },
    "id": "251d8c6d",
    "outputId": "7eafd503-5882-4d28-81b2-c202f3b08d55",
    "scrolled": true
   },
   "outputs": [
    {
     "data": {
      "text/html": [
       "<div>\n",
       "<style scoped>\n",
       "    .dataframe tbody tr th:only-of-type {\n",
       "        vertical-align: middle;\n",
       "    }\n",
       "\n",
       "    .dataframe tbody tr th {\n",
       "        vertical-align: top;\n",
       "    }\n",
       "\n",
       "    .dataframe thead th {\n",
       "        text-align: right;\n",
       "    }\n",
       "</style>\n",
       "<table border=\"1\" class=\"dataframe\">\n",
       "  <thead>\n",
       "    <tr style=\"text-align: right;\">\n",
       "      <th></th>\n",
       "      <th>order_number</th>\n",
       "      <th>order_date</th>\n",
       "      <th>customer_id</th>\n",
       "      <th>quantity</th>\n",
       "      <th>unit_price</th>\n",
       "      <th>freight</th>\n",
       "      <th>discount</th>\n",
       "    </tr>\n",
       "  </thead>\n",
       "  <tbody>\n",
       "    <tr>\n",
       "      <th>0</th>\n",
       "      <td>11979</td>\n",
       "      <td>2021-01-01</td>\n",
       "      <td>C673913546</td>\n",
       "      <td>1</td>\n",
       "      <td>70.9</td>\n",
       "      <td>25.0</td>\n",
       "      <td>0.0</td>\n",
       "    </tr>\n",
       "    <tr>\n",
       "      <th>1</th>\n",
       "      <td>11981</td>\n",
       "      <td>2021-01-01</td>\n",
       "      <td>C673919667</td>\n",
       "      <td>1</td>\n",
       "      <td>25.9</td>\n",
       "      <td>15.5</td>\n",
       "      <td>0.0</td>\n",
       "    </tr>\n",
       "    <tr>\n",
       "      <th>2</th>\n",
       "      <td>11982</td>\n",
       "      <td>2021-01-01</td>\n",
       "      <td>C673922965</td>\n",
       "      <td>1</td>\n",
       "      <td>159.9</td>\n",
       "      <td>5.0</td>\n",
       "      <td>0.0</td>\n",
       "    </tr>\n",
       "    <tr>\n",
       "      <th>3</th>\n",
       "      <td>11988</td>\n",
       "      <td>2021-01-01</td>\n",
       "      <td>C673925163</td>\n",
       "      <td>1</td>\n",
       "      <td>81.9</td>\n",
       "      <td>12.0</td>\n",
       "      <td>0.0</td>\n",
       "    </tr>\n",
       "    <tr>\n",
       "      <th>4</th>\n",
       "      <td>11989</td>\n",
       "      <td>2021-01-01</td>\n",
       "      <td>C673927655</td>\n",
       "      <td>1</td>\n",
       "      <td>159.9</td>\n",
       "      <td>5.0</td>\n",
       "      <td>0.0</td>\n",
       "    </tr>\n",
       "  </tbody>\n",
       "</table>\n",
       "</div>"
      ],
      "text/plain": [
       "   order_number order_date customer_id  quantity  unit_price  freight  \\\n",
       "0         11979 2021-01-01  C673913546         1        70.9     25.0   \n",
       "1         11981 2021-01-01  C673919667         1        25.9     15.5   \n",
       "2         11982 2021-01-01  C673922965         1       159.9      5.0   \n",
       "3         11988 2021-01-01  C673925163         1        81.9     12.0   \n",
       "4         11989 2021-01-01  C673927655         1       159.9      5.0   \n",
       "\n",
       "   discount  \n",
       "0       0.0  \n",
       "1       0.0  \n",
       "2       0.0  \n",
       "3       0.0  \n",
       "4       0.0  "
      ]
     },
     "execution_count": 7,
     "metadata": {},
     "output_type": "execute_result"
    }
   ],
   "source": [
    "ecommerce = pd.read_excel('customers.xlsx')\n",
    "ecommerce.head()"
   ]
  },
  {
   "cell_type": "markdown",
   "id": "iNYk1_ltNniR",
   "metadata": {
    "id": "iNYk1_ltNniR"
   },
   "source": [
    "### 4. Tratamento dos dados"
   ]
  },
  {
   "cell_type": "code",
   "execution_count": 9,
   "id": "33c0ebca",
   "metadata": {
    "colab": {
     "base_uri": "https://localhost:8080/"
    },
    "executionInfo": {
     "elapsed": 7,
     "status": "ok",
     "timestamp": 1698347122809,
     "user": {
      "displayName": "Pedro Salviato (Pedro Salviato)",
      "userId": "03993106776007688607"
     },
     "user_tz": 180
    },
    "id": "33c0ebca",
    "outputId": "5243adb9-2543-46a3-b546-f114e3088fae"
   },
   "outputs": [
    {
     "name": "stdout",
     "output_type": "stream",
     "text": [
      "<class 'pandas.core.frame.DataFrame'>\n",
      "RangeIndex: 38057 entries, 0 to 38056\n",
      "Data columns (total 7 columns):\n",
      " #   Column        Non-Null Count  Dtype         \n",
      "---  ------        --------------  -----         \n",
      " 0   order_number  38057 non-null  int64         \n",
      " 1   order_date    38057 non-null  datetime64[ns]\n",
      " 2   customer_id   38057 non-null  object        \n",
      " 3   quantity      38057 non-null  int64         \n",
      " 4   unit_price    38057 non-null  float64       \n",
      " 5   freight       38057 non-null  float64       \n",
      " 6   discount      38057 non-null  float64       \n",
      "dtypes: datetime64[ns](1), float64(3), int64(2), object(1)\n",
      "memory usage: 2.0+ MB\n"
     ]
    },
    {
     "data": {
      "text/plain": [
       "order_number    0\n",
       "order_date      0\n",
       "customer_id     0\n",
       "quantity        0\n",
       "unit_price      0\n",
       "freight         0\n",
       "discount        0\n",
       "dtype: int64"
      ]
     },
     "execution_count": 9,
     "metadata": {},
     "output_type": "execute_result"
    }
   ],
   "source": [
    "# verificando os tipos de dados, nesse caso não temos valores missing\n",
    "ecommerce.info()\n",
    "ecommerce.isnull().sum()"
   ]
  },
  {
   "cell_type": "code",
   "execution_count": 10,
   "id": "ZY1OlqphHmTK",
   "metadata": {
    "colab": {
     "base_uri": "https://localhost:8080/"
    },
    "executionInfo": {
     "elapsed": 5,
     "status": "ok",
     "timestamp": 1698347122809,
     "user": {
      "displayName": "Pedro Salviato (Pedro Salviato)",
      "userId": "03993106776007688607"
     },
     "user_tz": 180
    },
    "id": "ZY1OlqphHmTK",
    "outputId": "8a6b0037-6b6d-4817-de06-24d1f6685274"
   },
   "outputs": [
    {
     "name": "stdout",
     "output_type": "stream",
     "text": [
      "<class 'pandas.core.frame.DataFrame'>\n",
      "RangeIndex: 38057 entries, 0 to 38056\n",
      "Data columns (total 7 columns):\n",
      " #   Column        Non-Null Count  Dtype         \n",
      "---  ------        --------------  -----         \n",
      " 0   order_number  38057 non-null  int64         \n",
      " 1   order_date    38057 non-null  datetime64[ns]\n",
      " 2   customer_id   38057 non-null  object        \n",
      " 3   quantity      38057 non-null  int64         \n",
      " 4   unit_price    38057 non-null  float64       \n",
      " 5   freight       38057 non-null  float64       \n",
      " 6   discount      38057 non-null  float64       \n",
      "dtypes: datetime64[ns](1), float64(3), int64(2), object(1)\n",
      "memory usage: 2.0+ MB\n"
     ]
    }
   ],
   "source": [
    "# perceba a coluna order_date como object, vamos converter para datetime\n",
    "\n",
    "ecommerce['order_date'] = pd.to_datetime(ecommerce['order_date'], format = '%d-%m-%Y')\n",
    "ecommerce.info()"
   ]
  },
  {
   "cell_type": "code",
   "execution_count": 11,
   "id": "5L4Ami2KPJQS",
   "metadata": {
    "executionInfo": {
     "elapsed": 3,
     "status": "ok",
     "timestamp": 1698347122809,
     "user": {
      "displayName": "Pedro Salviato (Pedro Salviato)",
      "userId": "03993106776007688607"
     },
     "user_tz": 180
    },
    "id": "5L4Ami2KPJQS"
   },
   "outputs": [],
   "source": [
    "# excluindo os valores zerados ou decimais em unit_price\n",
    "ecommerce = ecommerce.query('unit_price >= 1')"
   ]
  },
  {
   "cell_type": "code",
   "execution_count": 12,
   "id": "KcgTOe2lQ3mP",
   "metadata": {
    "colab": {
     "base_uri": "https://localhost:8080/"
    },
    "executionInfo": {
     "elapsed": 6,
     "status": "ok",
     "timestamp": 1698347123252,
     "user": {
      "displayName": "Pedro Salviato (Pedro Salviato)",
      "userId": "03993106776007688607"
     },
     "user_tz": 180
    },
    "id": "KcgTOe2lQ3mP",
    "outputId": "6a82f321-7b56-48ba-a7dc-91ae04e96f56"
   },
   "outputs": [
    {
     "data": {
      "text/plain": [
       "(38053, 7)"
      ]
     },
     "execution_count": 12,
     "metadata": {},
     "output_type": "execute_result"
    }
   ],
   "source": [
    "# agora temos 38.053 linhas agora\n",
    "ecommerce.shape"
   ]
  },
  {
   "cell_type": "code",
   "execution_count": 13,
   "id": "1URemMEXRy70",
   "metadata": {
    "colab": {
     "base_uri": "https://localhost:8080/",
     "height": 363
    },
    "executionInfo": {
     "elapsed": 4,
     "status": "ok",
     "timestamp": 1698347123252,
     "user": {
      "displayName": "Pedro Salviato (Pedro Salviato)",
      "userId": "03993106776007688607"
     },
     "user_tz": 180
    },
    "id": "1URemMEXRy70",
    "outputId": "df221a7d-66c8-4525-c071-125975e02aa0"
   },
   "outputs": [
    {
     "data": {
      "text/html": [
       "<div>\n",
       "<style scoped>\n",
       "    .dataframe tbody tr th:only-of-type {\n",
       "        vertical-align: middle;\n",
       "    }\n",
       "\n",
       "    .dataframe tbody tr th {\n",
       "        vertical-align: top;\n",
       "    }\n",
       "\n",
       "    .dataframe thead th {\n",
       "        text-align: right;\n",
       "    }\n",
       "</style>\n",
       "<table border=\"1\" class=\"dataframe\">\n",
       "  <thead>\n",
       "    <tr style=\"text-align: right;\">\n",
       "      <th></th>\n",
       "      <th>order_number</th>\n",
       "      <th>order_date</th>\n",
       "      <th>customer_id</th>\n",
       "      <th>quantity</th>\n",
       "      <th>unit_price</th>\n",
       "      <th>freight</th>\n",
       "      <th>discount</th>\n",
       "      <th>order_value</th>\n",
       "    </tr>\n",
       "  </thead>\n",
       "  <tbody>\n",
       "    <tr>\n",
       "      <th>0</th>\n",
       "      <td>11979</td>\n",
       "      <td>2021-01-01</td>\n",
       "      <td>C673913546</td>\n",
       "      <td>1</td>\n",
       "      <td>70.9</td>\n",
       "      <td>25.00</td>\n",
       "      <td>0.0</td>\n",
       "      <td>95.90</td>\n",
       "    </tr>\n",
       "    <tr>\n",
       "      <th>1</th>\n",
       "      <td>11981</td>\n",
       "      <td>2021-01-01</td>\n",
       "      <td>C673919667</td>\n",
       "      <td>1</td>\n",
       "      <td>25.9</td>\n",
       "      <td>15.50</td>\n",
       "      <td>0.0</td>\n",
       "      <td>41.40</td>\n",
       "    </tr>\n",
       "    <tr>\n",
       "      <th>2</th>\n",
       "      <td>11982</td>\n",
       "      <td>2021-01-01</td>\n",
       "      <td>C673922965</td>\n",
       "      <td>1</td>\n",
       "      <td>159.9</td>\n",
       "      <td>5.00</td>\n",
       "      <td>0.0</td>\n",
       "      <td>164.90</td>\n",
       "    </tr>\n",
       "    <tr>\n",
       "      <th>3</th>\n",
       "      <td>11988</td>\n",
       "      <td>2021-01-01</td>\n",
       "      <td>C673925163</td>\n",
       "      <td>1</td>\n",
       "      <td>81.9</td>\n",
       "      <td>12.00</td>\n",
       "      <td>0.0</td>\n",
       "      <td>93.90</td>\n",
       "    </tr>\n",
       "    <tr>\n",
       "      <th>4</th>\n",
       "      <td>11989</td>\n",
       "      <td>2021-01-01</td>\n",
       "      <td>C673927655</td>\n",
       "      <td>1</td>\n",
       "      <td>159.9</td>\n",
       "      <td>5.00</td>\n",
       "      <td>0.0</td>\n",
       "      <td>164.90</td>\n",
       "    </tr>\n",
       "    <tr>\n",
       "      <th>5</th>\n",
       "      <td>11990</td>\n",
       "      <td>2021-01-01</td>\n",
       "      <td>C673928377</td>\n",
       "      <td>2</td>\n",
       "      <td>57.9</td>\n",
       "      <td>4.68</td>\n",
       "      <td>0.0</td>\n",
       "      <td>120.48</td>\n",
       "    </tr>\n",
       "    <tr>\n",
       "      <th>6</th>\n",
       "      <td>11991</td>\n",
       "      <td>2021-01-01</td>\n",
       "      <td>C541437430</td>\n",
       "      <td>1</td>\n",
       "      <td>67.9</td>\n",
       "      <td>12.76</td>\n",
       "      <td>0.0</td>\n",
       "      <td>80.66</td>\n",
       "    </tr>\n",
       "    <tr>\n",
       "      <th>7</th>\n",
       "      <td>11991</td>\n",
       "      <td>2021-01-01</td>\n",
       "      <td>C541437430</td>\n",
       "      <td>1</td>\n",
       "      <td>52.9</td>\n",
       "      <td>9.94</td>\n",
       "      <td>0.0</td>\n",
       "      <td>62.84</td>\n",
       "    </tr>\n",
       "    <tr>\n",
       "      <th>8</th>\n",
       "      <td>11991</td>\n",
       "      <td>2021-01-01</td>\n",
       "      <td>C541437430</td>\n",
       "      <td>1</td>\n",
       "      <td>38.9</td>\n",
       "      <td>7.30</td>\n",
       "      <td>0.0</td>\n",
       "      <td>46.20</td>\n",
       "    </tr>\n",
       "    <tr>\n",
       "      <th>9</th>\n",
       "      <td>11992</td>\n",
       "      <td>2021-01-01</td>\n",
       "      <td>C673930634</td>\n",
       "      <td>1</td>\n",
       "      <td>64.9</td>\n",
       "      <td>5.00</td>\n",
       "      <td>0.0</td>\n",
       "      <td>69.90</td>\n",
       "    </tr>\n",
       "  </tbody>\n",
       "</table>\n",
       "</div>"
      ],
      "text/plain": [
       "   order_number order_date customer_id  quantity  unit_price  freight  \\\n",
       "0         11979 2021-01-01  C673913546         1        70.9    25.00   \n",
       "1         11981 2021-01-01  C673919667         1        25.9    15.50   \n",
       "2         11982 2021-01-01  C673922965         1       159.9     5.00   \n",
       "3         11988 2021-01-01  C673925163         1        81.9    12.00   \n",
       "4         11989 2021-01-01  C673927655         1       159.9     5.00   \n",
       "5         11990 2021-01-01  C673928377         2        57.9     4.68   \n",
       "6         11991 2021-01-01  C541437430         1        67.9    12.76   \n",
       "7         11991 2021-01-01  C541437430         1        52.9     9.94   \n",
       "8         11991 2021-01-01  C541437430         1        38.9     7.30   \n",
       "9         11992 2021-01-01  C673930634         1        64.9     5.00   \n",
       "\n",
       "   discount  order_value  \n",
       "0       0.0        95.90  \n",
       "1       0.0        41.40  \n",
       "2       0.0       164.90  \n",
       "3       0.0        93.90  \n",
       "4       0.0       164.90  \n",
       "5       0.0       120.48  \n",
       "6       0.0        80.66  \n",
       "7       0.0        62.84  \n",
       "8       0.0        46.20  \n",
       "9       0.0        69.90  "
      ]
     },
     "execution_count": 13,
     "metadata": {},
     "output_type": "execute_result"
    }
   ],
   "source": [
    "# Cálculo do valor gasto pelo cliente\n",
    "# (Quantidade x Valor Unitário ) + Frete do pedido\n",
    "\n",
    "ecommerce['order_value'] = ecommerce['quantity'] * ecommerce['unit_price']\n",
    "ecommerce['order_value'] = ecommerce['order_value'] + ecommerce['freight']\n",
    "\n",
    "ecommerce.head(10)"
   ]
  },
  {
   "cell_type": "markdown",
   "id": "ypSVbbpPjUNY",
   "metadata": {
    "id": "ypSVbbpPjUNY"
   },
   "source": [
    "### 5. Recência"
   ]
  },
  {
   "cell_type": "code",
   "execution_count": 15,
   "id": "jf85IoqYjlLf",
   "metadata": {
    "colab": {
     "base_uri": "https://localhost:8080/",
     "height": 206
    },
    "executionInfo": {
     "elapsed": 4,
     "status": "ok",
     "timestamp": 1698347123252,
     "user": {
      "displayName": "Pedro Salviato (Pedro Salviato)",
      "userId": "03993106776007688607"
     },
     "user_tz": 180
    },
    "id": "jf85IoqYjlLf",
    "outputId": "e15f7dfa-69da-4360-d2fb-442a87db830b"
   },
   "outputs": [
    {
     "data": {
      "text/html": [
       "<div>\n",
       "<style scoped>\n",
       "    .dataframe tbody tr th:only-of-type {\n",
       "        vertical-align: middle;\n",
       "    }\n",
       "\n",
       "    .dataframe tbody tr th {\n",
       "        vertical-align: top;\n",
       "    }\n",
       "\n",
       "    .dataframe thead th {\n",
       "        text-align: right;\n",
       "    }\n",
       "</style>\n",
       "<table border=\"1\" class=\"dataframe\">\n",
       "  <thead>\n",
       "    <tr style=\"text-align: right;\">\n",
       "      <th></th>\n",
       "      <th>customer_id</th>\n",
       "      <th>order_date</th>\n",
       "    </tr>\n",
       "  </thead>\n",
       "  <tbody>\n",
       "    <tr>\n",
       "      <th>0</th>\n",
       "      <td>C537953795</td>\n",
       "      <td>2021-12-10</td>\n",
       "    </tr>\n",
       "    <tr>\n",
       "      <th>1</th>\n",
       "      <td>C537953859</td>\n",
       "      <td>2022-05-10</td>\n",
       "    </tr>\n",
       "    <tr>\n",
       "      <th>2</th>\n",
       "      <td>C537954768</td>\n",
       "      <td>2022-02-22</td>\n",
       "    </tr>\n",
       "    <tr>\n",
       "      <th>3</th>\n",
       "      <td>C537954812</td>\n",
       "      <td>2021-07-19</td>\n",
       "    </tr>\n",
       "    <tr>\n",
       "      <th>4</th>\n",
       "      <td>C537954872</td>\n",
       "      <td>2022-03-11</td>\n",
       "    </tr>\n",
       "  </tbody>\n",
       "</table>\n",
       "</div>"
      ],
      "text/plain": [
       "  customer_id order_date\n",
       "0  C537953795 2021-12-10\n",
       "1  C537953859 2022-05-10\n",
       "2  C537954768 2022-02-22\n",
       "3  C537954812 2021-07-19\n",
       "4  C537954872 2022-03-11"
      ]
     },
     "execution_count": 15,
     "metadata": {},
     "output_type": "execute_result"
    }
   ],
   "source": [
    "# criando dataframe de recência dos clientes\n",
    "\n",
    "df_recency = ecommerce[['order_date','customer_id']].groupby('customer_id')['order_date'].agg('max').reset_index()\n",
    "df_recency.head()"
   ]
  },
  {
   "cell_type": "code",
   "execution_count": 16,
   "id": "341699ac",
   "metadata": {
    "scrolled": true
   },
   "outputs": [
    {
     "data": {
      "text/html": [
       "<div>\n",
       "<style scoped>\n",
       "    .dataframe tbody tr th:only-of-type {\n",
       "        vertical-align: middle;\n",
       "    }\n",
       "\n",
       "    .dataframe tbody tr th {\n",
       "        vertical-align: top;\n",
       "    }\n",
       "\n",
       "    .dataframe thead th {\n",
       "        text-align: right;\n",
       "    }\n",
       "</style>\n",
       "<table border=\"1\" class=\"dataframe\">\n",
       "  <thead>\n",
       "    <tr style=\"text-align: right;\">\n",
       "      <th></th>\n",
       "      <th>customer_id</th>\n",
       "      <th>order_date</th>\n",
       "      <th>max_date</th>\n",
       "    </tr>\n",
       "  </thead>\n",
       "  <tbody>\n",
       "    <tr>\n",
       "      <th>0</th>\n",
       "      <td>C537953795</td>\n",
       "      <td>2021-12-10</td>\n",
       "      <td>2022-12-31</td>\n",
       "    </tr>\n",
       "    <tr>\n",
       "      <th>1</th>\n",
       "      <td>C537953859</td>\n",
       "      <td>2022-05-10</td>\n",
       "      <td>2022-12-31</td>\n",
       "    </tr>\n",
       "    <tr>\n",
       "      <th>2</th>\n",
       "      <td>C537954768</td>\n",
       "      <td>2022-02-22</td>\n",
       "      <td>2022-12-31</td>\n",
       "    </tr>\n",
       "    <tr>\n",
       "      <th>3</th>\n",
       "      <td>C537954812</td>\n",
       "      <td>2021-07-19</td>\n",
       "      <td>2022-12-31</td>\n",
       "    </tr>\n",
       "    <tr>\n",
       "      <th>4</th>\n",
       "      <td>C537954872</td>\n",
       "      <td>2022-03-11</td>\n",
       "      <td>2022-12-31</td>\n",
       "    </tr>\n",
       "  </tbody>\n",
       "</table>\n",
       "</div>"
      ],
      "text/plain": [
       "  customer_id order_date   max_date\n",
       "0  C537953795 2021-12-10 2022-12-31\n",
       "1  C537953859 2022-05-10 2022-12-31\n",
       "2  C537954768 2022-02-22 2022-12-31\n",
       "3  C537954812 2021-07-19 2022-12-31\n",
       "4  C537954872 2022-03-11 2022-12-31"
      ]
     },
     "execution_count": 16,
     "metadata": {},
     "output_type": "execute_result"
    }
   ],
   "source": [
    "# Criando uma coluna com a data máxima da tabela \n",
    "\n",
    "df_recency['max_date'] = df_recency['order_date'].max()\n",
    "df_recency.head()"
   ]
  },
  {
   "cell_type": "code",
   "execution_count": 17,
   "id": "46e98022",
   "metadata": {},
   "outputs": [
    {
     "name": "stdout",
     "output_type": "stream",
     "text": [
      "<class 'pandas.core.frame.DataFrame'>\n",
      "RangeIndex: 25806 entries, 0 to 25805\n",
      "Data columns (total 4 columns):\n",
      " #   Column       Non-Null Count  Dtype         \n",
      "---  ------       --------------  -----         \n",
      " 0   customer_id  25806 non-null  object        \n",
      " 1   order_date   25806 non-null  datetime64[ns]\n",
      " 2   max_date     25806 non-null  datetime64[ns]\n",
      " 3   days         25806 non-null  int64         \n",
      "dtypes: datetime64[ns](2), int64(1), object(1)\n",
      "memory usage: 806.6+ KB\n"
     ]
    }
   ],
   "source": [
    "# Criando a colunas de dias  ( diferença entre a data maxima da tabela e a ultima compra de cada cliente )\n",
    "\n",
    "df_recency['days'] = (df_recency['max_date'] - df_recency['order_date']).dt.days\n",
    "df_recency.info()"
   ]
  },
  {
   "cell_type": "code",
   "execution_count": 18,
   "id": "860da838",
   "metadata": {},
   "outputs": [
    {
     "data": {
      "text/html": [
       "<div>\n",
       "<style scoped>\n",
       "    .dataframe tbody tr th:only-of-type {\n",
       "        vertical-align: middle;\n",
       "    }\n",
       "\n",
       "    .dataframe tbody tr th {\n",
       "        vertical-align: top;\n",
       "    }\n",
       "\n",
       "    .dataframe thead th {\n",
       "        text-align: right;\n",
       "    }\n",
       "</style>\n",
       "<table border=\"1\" class=\"dataframe\">\n",
       "  <thead>\n",
       "    <tr style=\"text-align: right;\">\n",
       "      <th></th>\n",
       "      <th>customer_id</th>\n",
       "      <th>order_date</th>\n",
       "      <th>max_date</th>\n",
       "      <th>recency</th>\n",
       "    </tr>\n",
       "  </thead>\n",
       "  <tbody>\n",
       "    <tr>\n",
       "      <th>3</th>\n",
       "      <td>C537954812</td>\n",
       "      <td>2021-07-19</td>\n",
       "      <td>2022-12-31</td>\n",
       "      <td>530</td>\n",
       "    </tr>\n",
       "    <tr>\n",
       "      <th>0</th>\n",
       "      <td>C537953795</td>\n",
       "      <td>2021-12-10</td>\n",
       "      <td>2022-12-31</td>\n",
       "      <td>386</td>\n",
       "    </tr>\n",
       "    <tr>\n",
       "      <th>2</th>\n",
       "      <td>C537954768</td>\n",
       "      <td>2022-02-22</td>\n",
       "      <td>2022-12-31</td>\n",
       "      <td>312</td>\n",
       "    </tr>\n",
       "    <tr>\n",
       "      <th>4</th>\n",
       "      <td>C537954872</td>\n",
       "      <td>2022-03-11</td>\n",
       "      <td>2022-12-31</td>\n",
       "      <td>295</td>\n",
       "    </tr>\n",
       "    <tr>\n",
       "      <th>1</th>\n",
       "      <td>C537953859</td>\n",
       "      <td>2022-05-10</td>\n",
       "      <td>2022-12-31</td>\n",
       "      <td>235</td>\n",
       "    </tr>\n",
       "  </tbody>\n",
       "</table>\n",
       "</div>"
      ],
      "text/plain": [
       "  customer_id order_date   max_date  recency\n",
       "3  C537954812 2021-07-19 2022-12-31      530\n",
       "0  C537953795 2021-12-10 2022-12-31      386\n",
       "2  C537954768 2022-02-22 2022-12-31      312\n",
       "4  C537954872 2022-03-11 2022-12-31      295\n",
       "1  C537953859 2022-05-10 2022-12-31      235"
      ]
     },
     "execution_count": 18,
     "metadata": {},
     "output_type": "execute_result"
    }
   ],
   "source": [
    "# Renomear os dias para recency\n",
    "\n",
    "df_recency = df_recency.rename(\n",
    "columns = {\n",
    "            'days': 'recency'\n",
    "})\n",
    "\n",
    "df_recency.head().sort_values('recency',ascending = False)"
   ]
  },
  {
   "cell_type": "code",
   "execution_count": 19,
   "id": "4254a074",
   "metadata": {},
   "outputs": [
    {
     "data": {
      "text/html": [
       "<div>\n",
       "<style scoped>\n",
       "    .dataframe tbody tr th:only-of-type {\n",
       "        vertical-align: middle;\n",
       "    }\n",
       "\n",
       "    .dataframe tbody tr th {\n",
       "        vertical-align: top;\n",
       "    }\n",
       "\n",
       "    .dataframe thead th {\n",
       "        text-align: right;\n",
       "    }\n",
       "</style>\n",
       "<table border=\"1\" class=\"dataframe\">\n",
       "  <thead>\n",
       "    <tr style=\"text-align: right;\">\n",
       "      <th></th>\n",
       "      <th>order_number</th>\n",
       "      <th>order_date</th>\n",
       "      <th>customer_id</th>\n",
       "      <th>quantity</th>\n",
       "      <th>unit_price</th>\n",
       "      <th>freight</th>\n",
       "      <th>discount</th>\n",
       "      <th>order_value</th>\n",
       "    </tr>\n",
       "  </thead>\n",
       "  <tbody>\n",
       "    <tr>\n",
       "      <th>0</th>\n",
       "      <td>11979</td>\n",
       "      <td>2021-01-01</td>\n",
       "      <td>C673913546</td>\n",
       "      <td>1</td>\n",
       "      <td>70.9</td>\n",
       "      <td>25.00</td>\n",
       "      <td>0.0</td>\n",
       "      <td>95.90</td>\n",
       "    </tr>\n",
       "    <tr>\n",
       "      <th>1</th>\n",
       "      <td>11981</td>\n",
       "      <td>2021-01-01</td>\n",
       "      <td>C673919667</td>\n",
       "      <td>1</td>\n",
       "      <td>25.9</td>\n",
       "      <td>15.50</td>\n",
       "      <td>0.0</td>\n",
       "      <td>41.40</td>\n",
       "    </tr>\n",
       "    <tr>\n",
       "      <th>2</th>\n",
       "      <td>11982</td>\n",
       "      <td>2021-01-01</td>\n",
       "      <td>C673922965</td>\n",
       "      <td>1</td>\n",
       "      <td>159.9</td>\n",
       "      <td>5.00</td>\n",
       "      <td>0.0</td>\n",
       "      <td>164.90</td>\n",
       "    </tr>\n",
       "    <tr>\n",
       "      <th>3</th>\n",
       "      <td>11988</td>\n",
       "      <td>2021-01-01</td>\n",
       "      <td>C673925163</td>\n",
       "      <td>1</td>\n",
       "      <td>81.9</td>\n",
       "      <td>12.00</td>\n",
       "      <td>0.0</td>\n",
       "      <td>93.90</td>\n",
       "    </tr>\n",
       "    <tr>\n",
       "      <th>4</th>\n",
       "      <td>11989</td>\n",
       "      <td>2021-01-01</td>\n",
       "      <td>C673927655</td>\n",
       "      <td>1</td>\n",
       "      <td>159.9</td>\n",
       "      <td>5.00</td>\n",
       "      <td>0.0</td>\n",
       "      <td>164.90</td>\n",
       "    </tr>\n",
       "    <tr>\n",
       "      <th>5</th>\n",
       "      <td>11990</td>\n",
       "      <td>2021-01-01</td>\n",
       "      <td>C673928377</td>\n",
       "      <td>2</td>\n",
       "      <td>57.9</td>\n",
       "      <td>4.68</td>\n",
       "      <td>0.0</td>\n",
       "      <td>120.48</td>\n",
       "    </tr>\n",
       "    <tr>\n",
       "      <th>7</th>\n",
       "      <td>11991</td>\n",
       "      <td>2021-01-01</td>\n",
       "      <td>C541437430</td>\n",
       "      <td>1</td>\n",
       "      <td>52.9</td>\n",
       "      <td>9.94</td>\n",
       "      <td>0.0</td>\n",
       "      <td>62.84</td>\n",
       "    </tr>\n",
       "    <tr>\n",
       "      <th>8</th>\n",
       "      <td>11991</td>\n",
       "      <td>2021-01-01</td>\n",
       "      <td>C541437430</td>\n",
       "      <td>1</td>\n",
       "      <td>38.9</td>\n",
       "      <td>7.30</td>\n",
       "      <td>0.0</td>\n",
       "      <td>46.20</td>\n",
       "    </tr>\n",
       "    <tr>\n",
       "      <th>6</th>\n",
       "      <td>11991</td>\n",
       "      <td>2021-01-01</td>\n",
       "      <td>C541437430</td>\n",
       "      <td>1</td>\n",
       "      <td>67.9</td>\n",
       "      <td>12.76</td>\n",
       "      <td>0.0</td>\n",
       "      <td>80.66</td>\n",
       "    </tr>\n",
       "    <tr>\n",
       "      <th>9</th>\n",
       "      <td>11992</td>\n",
       "      <td>2021-01-01</td>\n",
       "      <td>C673930634</td>\n",
       "      <td>1</td>\n",
       "      <td>64.9</td>\n",
       "      <td>5.00</td>\n",
       "      <td>0.0</td>\n",
       "      <td>69.90</td>\n",
       "    </tr>\n",
       "  </tbody>\n",
       "</table>\n",
       "</div>"
      ],
      "text/plain": [
       "   order_number order_date customer_id  quantity  unit_price  freight  \\\n",
       "0         11979 2021-01-01  C673913546         1        70.9    25.00   \n",
       "1         11981 2021-01-01  C673919667         1        25.9    15.50   \n",
       "2         11982 2021-01-01  C673922965         1       159.9     5.00   \n",
       "3         11988 2021-01-01  C673925163         1        81.9    12.00   \n",
       "4         11989 2021-01-01  C673927655         1       159.9     5.00   \n",
       "5         11990 2021-01-01  C673928377         2        57.9     4.68   \n",
       "7         11991 2021-01-01  C541437430         1        52.9     9.94   \n",
       "8         11991 2021-01-01  C541437430         1        38.9     7.30   \n",
       "6         11991 2021-01-01  C541437430         1        67.9    12.76   \n",
       "9         11992 2021-01-01  C673930634         1        64.9     5.00   \n",
       "\n",
       "   discount  order_value  \n",
       "0       0.0        95.90  \n",
       "1       0.0        41.40  \n",
       "2       0.0       164.90  \n",
       "3       0.0        93.90  \n",
       "4       0.0       164.90  \n",
       "5       0.0       120.48  \n",
       "7       0.0        62.84  \n",
       "8       0.0        46.20  \n",
       "6       0.0        80.66  \n",
       "9       0.0        69.90  "
      ]
     },
     "execution_count": 19,
     "metadata": {},
     "output_type": "execute_result"
    }
   ],
   "source": [
    "ecommerce.sort_values('order_number', ascending = True).head(10)"
   ]
  },
  {
   "cell_type": "markdown",
   "id": "Xk1YUl3_VXKb",
   "metadata": {
    "id": "Xk1YUl3_VXKb"
   },
   "source": [
    " ### 6. Frequência e Valor Monetário\n"
   ]
  },
  {
   "cell_type": "markdown",
   "id": "9addceb2",
   "metadata": {},
   "source": [
    "Detalhe: no dataset não temos o identificador do produto que foi comprado, isso dificulta um pouco, pois se um cliente compra 2 produtos diferentes, na tabela irá se repetir 2 linhas com o mesmo order_number e quantity = 1, porém se for o mesmo produto a quantity será igual 2. \n",
    "\n",
    "-> Veja os exemplos abaixo."
   ]
  },
  {
   "cell_type": "code",
   "execution_count": 22,
   "id": "47fed16f",
   "metadata": {
    "scrolled": true
   },
   "outputs": [
    {
     "data": {
      "text/html": [
       "<div>\n",
       "<style scoped>\n",
       "    .dataframe tbody tr th:only-of-type {\n",
       "        vertical-align: middle;\n",
       "    }\n",
       "\n",
       "    .dataframe tbody tr th {\n",
       "        vertical-align: top;\n",
       "    }\n",
       "\n",
       "    .dataframe thead th {\n",
       "        text-align: right;\n",
       "    }\n",
       "</style>\n",
       "<table border=\"1\" class=\"dataframe\">\n",
       "  <thead>\n",
       "    <tr style=\"text-align: right;\">\n",
       "      <th></th>\n",
       "      <th>order_number</th>\n",
       "      <th>order_date</th>\n",
       "      <th>customer_id</th>\n",
       "      <th>quantity</th>\n",
       "      <th>unit_price</th>\n",
       "      <th>freight</th>\n",
       "      <th>discount</th>\n",
       "      <th>order_value</th>\n",
       "    </tr>\n",
       "  </thead>\n",
       "  <tbody>\n",
       "    <tr>\n",
       "      <th>6</th>\n",
       "      <td>11991</td>\n",
       "      <td>2021-01-01</td>\n",
       "      <td>C541437430</td>\n",
       "      <td>1</td>\n",
       "      <td>67.9</td>\n",
       "      <td>12.76</td>\n",
       "      <td>0.0</td>\n",
       "      <td>80.66</td>\n",
       "    </tr>\n",
       "    <tr>\n",
       "      <th>7</th>\n",
       "      <td>11991</td>\n",
       "      <td>2021-01-01</td>\n",
       "      <td>C541437430</td>\n",
       "      <td>1</td>\n",
       "      <td>52.9</td>\n",
       "      <td>9.94</td>\n",
       "      <td>0.0</td>\n",
       "      <td>62.84</td>\n",
       "    </tr>\n",
       "    <tr>\n",
       "      <th>8</th>\n",
       "      <td>11991</td>\n",
       "      <td>2021-01-01</td>\n",
       "      <td>C541437430</td>\n",
       "      <td>1</td>\n",
       "      <td>38.9</td>\n",
       "      <td>7.30</td>\n",
       "      <td>0.0</td>\n",
       "      <td>46.20</td>\n",
       "    </tr>\n",
       "  </tbody>\n",
       "</table>\n",
       "</div>"
      ],
      "text/plain": [
       "   order_number order_date customer_id  quantity  unit_price  freight  \\\n",
       "6         11991 2021-01-01  C541437430         1        67.9    12.76   \n",
       "7         11991 2021-01-01  C541437430         1        52.9     9.94   \n",
       "8         11991 2021-01-01  C541437430         1        38.9     7.30   \n",
       "\n",
       "   discount  order_value  \n",
       "6       0.0        80.66  \n",
       "7       0.0        62.84  \n",
       "8       0.0        46.20  "
      ]
     },
     "execution_count": 22,
     "metadata": {},
     "output_type": "execute_result"
    }
   ],
   "source": [
    "# Cliente comprou 3 produtos diferentes em um pedido.\n",
    "\n",
    "ecommerce.query('order_number == 11991')"
   ]
  },
  {
   "cell_type": "code",
   "execution_count": 23,
   "id": "f9b4150d",
   "metadata": {},
   "outputs": [
    {
     "data": {
      "text/html": [
       "<div>\n",
       "<style scoped>\n",
       "    .dataframe tbody tr th:only-of-type {\n",
       "        vertical-align: middle;\n",
       "    }\n",
       "\n",
       "    .dataframe tbody tr th {\n",
       "        vertical-align: top;\n",
       "    }\n",
       "\n",
       "    .dataframe thead th {\n",
       "        text-align: right;\n",
       "    }\n",
       "</style>\n",
       "<table border=\"1\" class=\"dataframe\">\n",
       "  <thead>\n",
       "    <tr style=\"text-align: right;\">\n",
       "      <th></th>\n",
       "      <th>order_number</th>\n",
       "      <th>order_date</th>\n",
       "      <th>customer_id</th>\n",
       "      <th>quantity</th>\n",
       "      <th>unit_price</th>\n",
       "      <th>freight</th>\n",
       "      <th>discount</th>\n",
       "      <th>order_value</th>\n",
       "    </tr>\n",
       "  </thead>\n",
       "  <tbody>\n",
       "    <tr>\n",
       "      <th>5</th>\n",
       "      <td>11990</td>\n",
       "      <td>2021-01-01</td>\n",
       "      <td>C673928377</td>\n",
       "      <td>2</td>\n",
       "      <td>57.9</td>\n",
       "      <td>4.68</td>\n",
       "      <td>0.0</td>\n",
       "      <td>120.48</td>\n",
       "    </tr>\n",
       "  </tbody>\n",
       "</table>\n",
       "</div>"
      ],
      "text/plain": [
       "   order_number order_date customer_id  quantity  unit_price  freight  \\\n",
       "5         11990 2021-01-01  C673928377         2        57.9     4.68   \n",
       "\n",
       "   discount  order_value  \n",
       "5       0.0       120.48  "
      ]
     },
     "execution_count": 23,
     "metadata": {},
     "output_type": "execute_result"
    }
   ],
   "source": [
    "# Cliente comprou 2 unidades de um mesmo produto\n",
    "\n",
    "ecommerce.query('order_number == 11990')"
   ]
  },
  {
   "cell_type": "markdown",
   "id": "7c4497ed",
   "metadata": {},
   "source": [
    "<strong> Por isso é importante conhecermos a base de dados se não faríamos o tratamento errado ! <strong>"
   ]
  },
  {
   "cell_type": "markdown",
   "id": "9b4834df",
   "metadata": {},
   "source": [
    "Assim para criar o dataframe de frequência e valor, agrupamos customer_id pelo a contagem de valores únicos de order_number (frequência) com o 'nunique' e a média de order_value (valor)\n",
    "\n",
    "Vamos ver na prática!"
   ]
  },
  {
   "cell_type": "code",
   "execution_count": 26,
   "id": "1RuxTuigViR4",
   "metadata": {
    "executionInfo": {
     "elapsed": 5,
     "status": "ok",
     "timestamp": 1698347124510,
     "user": {
      "displayName": "Pedro Salviato (Pedro Salviato)",
      "userId": "03993106776007688607"
     },
     "user_tz": 180
    },
    "id": "1RuxTuigViR4"
   },
   "outputs": [],
   "source": [
    "# Criando dataframe frequencia e valor\n",
    "\n",
    "df_fv = ecommerce.groupby('customer_id')[['order_number', 'order_value']].agg({\n",
    "    'order_number': 'nunique', \n",
    "    'order_value': 'mean'\n",
    "}).reset_index()"
   ]
  },
  {
   "cell_type": "code",
   "execution_count": 27,
   "id": "mN2m1s1zWE4X",
   "metadata": {
    "colab": {
     "base_uri": "https://localhost:8080/",
     "height": 206
    },
    "executionInfo": {
     "elapsed": 305,
     "status": "ok",
     "timestamp": 1698348275752,
     "user": {
      "displayName": "Pedro Salviato (Pedro Salviato)",
      "userId": "03993106776007688607"
     },
     "user_tz": 180
    },
    "id": "mN2m1s1zWE4X",
    "outputId": "61e28e58-610f-4e3a-dce4-c133623becc2"
   },
   "outputs": [
    {
     "data": {
      "text/html": [
       "<div>\n",
       "<style scoped>\n",
       "    .dataframe tbody tr th:only-of-type {\n",
       "        vertical-align: middle;\n",
       "    }\n",
       "\n",
       "    .dataframe tbody tr th {\n",
       "        vertical-align: top;\n",
       "    }\n",
       "\n",
       "    .dataframe thead th {\n",
       "        text-align: right;\n",
       "    }\n",
       "</style>\n",
       "<table border=\"1\" class=\"dataframe\">\n",
       "  <thead>\n",
       "    <tr style=\"text-align: right;\">\n",
       "      <th></th>\n",
       "      <th>customer_id</th>\n",
       "      <th>order_number</th>\n",
       "      <th>order_value</th>\n",
       "    </tr>\n",
       "  </thead>\n",
       "  <tbody>\n",
       "    <tr>\n",
       "      <th>0</th>\n",
       "      <td>C537953795</td>\n",
       "      <td>2</td>\n",
       "      <td>56.152500</td>\n",
       "    </tr>\n",
       "    <tr>\n",
       "      <th>1</th>\n",
       "      <td>C537953859</td>\n",
       "      <td>12</td>\n",
       "      <td>66.597059</td>\n",
       "    </tr>\n",
       "    <tr>\n",
       "      <th>2</th>\n",
       "      <td>C537954768</td>\n",
       "      <td>4</td>\n",
       "      <td>73.050000</td>\n",
       "    </tr>\n",
       "    <tr>\n",
       "      <th>3</th>\n",
       "      <td>C537954812</td>\n",
       "      <td>2</td>\n",
       "      <td>111.945000</td>\n",
       "    </tr>\n",
       "    <tr>\n",
       "      <th>4</th>\n",
       "      <td>C537954872</td>\n",
       "      <td>2</td>\n",
       "      <td>167.003333</td>\n",
       "    </tr>\n",
       "  </tbody>\n",
       "</table>\n",
       "</div>"
      ],
      "text/plain": [
       "  customer_id  order_number  order_value\n",
       "0  C537953795             2    56.152500\n",
       "1  C537953859            12    66.597059\n",
       "2  C537954768             4    73.050000\n",
       "3  C537954812             2   111.945000\n",
       "4  C537954872             2   167.003333"
      ]
     },
     "execution_count": 27,
     "metadata": {},
     "output_type": "execute_result"
    }
   ],
   "source": [
    "# output é o novo dataframe\n",
    "df_fv.head()"
   ]
  },
  {
   "cell_type": "code",
   "execution_count": 28,
   "id": "aCHD9SMAZG1z",
   "metadata": {
    "colab": {
     "base_uri": "https://localhost:8080/",
     "height": 423
    },
    "executionInfo": {
     "elapsed": 3,
     "status": "ok",
     "timestamp": 1698347602545,
     "user": {
      "displayName": "Pedro Salviato (Pedro Salviato)",
      "userId": "03993106776007688607"
     },
     "user_tz": 180
    },
    "id": "aCHD9SMAZG1z",
    "outputId": "2656fa55-4c0a-4c77-a45d-b90ed6b6b8f5",
    "scrolled": true
   },
   "outputs": [
    {
     "data": {
      "text/html": [
       "<div>\n",
       "<style scoped>\n",
       "    .dataframe tbody tr th:only-of-type {\n",
       "        vertical-align: middle;\n",
       "    }\n",
       "\n",
       "    .dataframe tbody tr th {\n",
       "        vertical-align: top;\n",
       "    }\n",
       "\n",
       "    .dataframe thead th {\n",
       "        text-align: right;\n",
       "    }\n",
       "</style>\n",
       "<table border=\"1\" class=\"dataframe\">\n",
       "  <thead>\n",
       "    <tr style=\"text-align: right;\">\n",
       "      <th></th>\n",
       "      <th>customer_id</th>\n",
       "      <th>frequency</th>\n",
       "      <th>monetary_value</th>\n",
       "    </tr>\n",
       "  </thead>\n",
       "  <tbody>\n",
       "    <tr>\n",
       "      <th>0</th>\n",
       "      <td>C537953795</td>\n",
       "      <td>2</td>\n",
       "      <td>56.15</td>\n",
       "    </tr>\n",
       "    <tr>\n",
       "      <th>1</th>\n",
       "      <td>C537953859</td>\n",
       "      <td>12</td>\n",
       "      <td>66.60</td>\n",
       "    </tr>\n",
       "    <tr>\n",
       "      <th>2</th>\n",
       "      <td>C537954768</td>\n",
       "      <td>4</td>\n",
       "      <td>73.05</td>\n",
       "    </tr>\n",
       "    <tr>\n",
       "      <th>3</th>\n",
       "      <td>C537954812</td>\n",
       "      <td>2</td>\n",
       "      <td>111.94</td>\n",
       "    </tr>\n",
       "    <tr>\n",
       "      <th>4</th>\n",
       "      <td>C537954872</td>\n",
       "      <td>2</td>\n",
       "      <td>167.00</td>\n",
       "    </tr>\n",
       "  </tbody>\n",
       "</table>\n",
       "</div>"
      ],
      "text/plain": [
       "  customer_id  frequency  monetary_value\n",
       "0  C537953795          2           56.15\n",
       "1  C537953859         12           66.60\n",
       "2  C537954768          4           73.05\n",
       "3  C537954812          2          111.94\n",
       "4  C537954872          2          167.00"
      ]
     },
     "execution_count": 28,
     "metadata": {},
     "output_type": "execute_result"
    }
   ],
   "source": [
    "# vamos renomear as colunas devidamente\n",
    "\n",
    "df_fv = df_fv.rename(\n",
    "    columns = {\n",
    "        'order_number': 'frequency',\n",
    "        'order_value': 'monetary_value'\n",
    "    }\n",
    ")\n",
    "\n",
    "\n",
    "# arrenda os valores\n",
    "\n",
    "df_fv.monetary_value = df_fv.monetary_value.round(2)\n",
    "\n",
    "# dataframe final\n",
    "df_fv.head()"
   ]
  },
  {
   "cell_type": "code",
   "execution_count": 29,
   "id": "e562b46f",
   "metadata": {},
   "outputs": [],
   "source": [
    "# criando dataframe rfv \n",
    "\n",
    "rfv = df_recency.merge(df_fv, on = 'customer_id', how = 'left')\n",
    "\n",
    "# excluir as colunas order_date e max_date pois não serão mais utilizadas\n",
    "\n",
    "rfv = rfv.drop('order_date', axis =1)\n",
    "rfv = rfv.drop('max_date', axis =1)"
   ]
  },
  {
   "cell_type": "code",
   "execution_count": 30,
   "id": "30b35c4d",
   "metadata": {},
   "outputs": [
    {
     "data": {
      "text/html": [
       "<div>\n",
       "<style scoped>\n",
       "    .dataframe tbody tr th:only-of-type {\n",
       "        vertical-align: middle;\n",
       "    }\n",
       "\n",
       "    .dataframe tbody tr th {\n",
       "        vertical-align: top;\n",
       "    }\n",
       "\n",
       "    .dataframe thead th {\n",
       "        text-align: right;\n",
       "    }\n",
       "</style>\n",
       "<table border=\"1\" class=\"dataframe\">\n",
       "  <thead>\n",
       "    <tr style=\"text-align: right;\">\n",
       "      <th></th>\n",
       "      <th>customer_id</th>\n",
       "      <th>recency</th>\n",
       "      <th>frequency</th>\n",
       "      <th>monetary_value</th>\n",
       "    </tr>\n",
       "  </thead>\n",
       "  <tbody>\n",
       "    <tr>\n",
       "      <th>0</th>\n",
       "      <td>C537953795</td>\n",
       "      <td>386</td>\n",
       "      <td>2</td>\n",
       "      <td>56.15</td>\n",
       "    </tr>\n",
       "    <tr>\n",
       "      <th>1</th>\n",
       "      <td>C537953859</td>\n",
       "      <td>235</td>\n",
       "      <td>12</td>\n",
       "      <td>66.60</td>\n",
       "    </tr>\n",
       "    <tr>\n",
       "      <th>2</th>\n",
       "      <td>C537954768</td>\n",
       "      <td>312</td>\n",
       "      <td>4</td>\n",
       "      <td>73.05</td>\n",
       "    </tr>\n",
       "    <tr>\n",
       "      <th>3</th>\n",
       "      <td>C537954812</td>\n",
       "      <td>530</td>\n",
       "      <td>2</td>\n",
       "      <td>111.94</td>\n",
       "    </tr>\n",
       "    <tr>\n",
       "      <th>4</th>\n",
       "      <td>C537954872</td>\n",
       "      <td>295</td>\n",
       "      <td>2</td>\n",
       "      <td>167.00</td>\n",
       "    </tr>\n",
       "  </tbody>\n",
       "</table>\n",
       "</div>"
      ],
      "text/plain": [
       "  customer_id  recency  frequency  monetary_value\n",
       "0  C537953795      386          2           56.15\n",
       "1  C537953859      235         12           66.60\n",
       "2  C537954768      312          4           73.05\n",
       "3  C537954812      530          2          111.94\n",
       "4  C537954872      295          2          167.00"
      ]
     },
     "execution_count": 30,
     "metadata": {},
     "output_type": "execute_result"
    }
   ],
   "source": [
    "# dataframe final\n",
    "\n",
    "rfv.head()"
   ]
  },
  {
   "cell_type": "markdown",
   "id": "fc63bf0a",
   "metadata": {},
   "source": [
    "### 7. Algoritmos K-Means <br /> \n",
    "\n",
    "Feito todas as etapas de tratamento do dados, temos o dataframe de clientes com as informações de recência, frequência e valor. <br/>\n",
    "\n",
    "<strong>Mas como iremos prosseguir para segmentar esses clientes de acordo com informações em grupos de comportamento e caractéristicas semelhantes? Assim entramos no assunto dos algoritmos K-Means<strong> \n",
    "\n",
    "\n",
    "Os K-Means são algoritmos usados para agrupar dados com base em suas características, tendências e padrões. O objetivo é encontrar grupos naturais e semelhantes que estão distrúbuidos na estrutura do dados. É uma técnica poderosa para segmentar dados e se encaixa perfeitamente para o que precisamos na análise de RFV.\n",
    "    \n",
    "Irei deixar alguns links que eu usei para me introduzir no assunto de K-means que me ajudou muito e espero que seja utíl na sua compreensão também. <br/>\n",
    "\n",
    "Base teórica K-Means: https://youtu.be/q05qbU8FYKU?si=TXEM26Zp19WyIMZd <br />\n",
    "Técnica de Clustering K-Means: https://estatsite.com.br/2016/05/03/tecnicas-de-clustering-k-means/ <br/>\n",
    "Exemplo Visual K-Means: https://youtu.be/piDlrtfz58s?si=YYQ5PU4F31A3Sku1"
   ]
  },
  {
   "cell_type": "code",
   "execution_count": 32,
   "id": "5b93e5c9",
   "metadata": {},
   "outputs": [],
   "source": [
    "# Importar bibliotecas de machine learning\n",
    "\n",
    "from sklearn.cluster import KMeans\n",
    "from sklearn.preprocessing import StandardScaler\n",
    "\n",
    "# definir as features \n",
    "\n",
    "features_cols = ['recency', 'frequency', 'monetary_value']\n",
    "\n",
    "# gerar uma amostra e uma cópia dessa amostra\n",
    "\n",
    "amostra = rfv.sample(n=750, random_state =0)\n",
    "amostra_x = amostra.copy()"
   ]
  },
  {
   "cell_type": "code",
   "execution_count": 33,
   "id": "f7532456",
   "metadata": {},
   "outputs": [],
   "source": [
    "# Inicia a Escalonização\n",
    "scaler = StandardScaler()"
   ]
  },
  {
   "cell_type": "code",
   "execution_count": 34,
   "id": "6a9e9750",
   "metadata": {},
   "outputs": [],
   "source": [
    "# aplica a transfomação e aloca as features no datraframa copiado\n",
    "scaler.fit(amostra[features_cols])\n",
    "\n",
    "features_x = scaler.transform(amostra[features_cols])\n",
    "amostra_x[features_cols] = features_x"
   ]
  },
  {
   "cell_type": "code",
   "execution_count": 35,
   "id": "7be6c94d",
   "metadata": {},
   "outputs": [
    {
     "data": {
      "text/html": [
       "<div>\n",
       "<style scoped>\n",
       "    .dataframe tbody tr th:only-of-type {\n",
       "        vertical-align: middle;\n",
       "    }\n",
       "\n",
       "    .dataframe tbody tr th {\n",
       "        vertical-align: top;\n",
       "    }\n",
       "\n",
       "    .dataframe thead th {\n",
       "        text-align: right;\n",
       "    }\n",
       "</style>\n",
       "<table border=\"1\" class=\"dataframe\">\n",
       "  <thead>\n",
       "    <tr style=\"text-align: right;\">\n",
       "      <th></th>\n",
       "      <th>customer_id</th>\n",
       "      <th>recency</th>\n",
       "      <th>frequency</th>\n",
       "      <th>monetary_value</th>\n",
       "    </tr>\n",
       "  </thead>\n",
       "  <tbody>\n",
       "    <tr>\n",
       "      <th>7638</th>\n",
       "      <td>C712134032</td>\n",
       "      <td>0.736758</td>\n",
       "      <td>-0.259827</td>\n",
       "      <td>1.534262</td>\n",
       "    </tr>\n",
       "    <tr>\n",
       "      <th>19145</th>\n",
       "      <td>C736534163</td>\n",
       "      <td>-0.816202</td>\n",
       "      <td>1.449563</td>\n",
       "      <td>0.720327</td>\n",
       "    </tr>\n",
       "    <tr>\n",
       "      <th>7574</th>\n",
       "      <td>C711694244</td>\n",
       "      <td>0.751786</td>\n",
       "      <td>-0.259827</td>\n",
       "      <td>1.430133</td>\n",
       "    </tr>\n",
       "    <tr>\n",
       "      <th>1500</th>\n",
       "      <td>C679266360</td>\n",
       "      <td>1.798782</td>\n",
       "      <td>-0.259827</td>\n",
       "      <td>0.030824</td>\n",
       "    </tr>\n",
       "    <tr>\n",
       "      <th>24376</th>\n",
       "      <td>C740533553</td>\n",
       "      <td>-1.502510</td>\n",
       "      <td>-0.259827</td>\n",
       "      <td>-0.566008</td>\n",
       "    </tr>\n",
       "  </tbody>\n",
       "</table>\n",
       "</div>"
      ],
      "text/plain": [
       "      customer_id   recency  frequency  monetary_value\n",
       "7638   C712134032  0.736758  -0.259827        1.534262\n",
       "19145  C736534163 -0.816202   1.449563        0.720327\n",
       "7574   C711694244  0.751786  -0.259827        1.430133\n",
       "1500   C679266360  1.798782  -0.259827        0.030824\n",
       "24376  C740533553 -1.502510  -0.259827       -0.566008"
      ]
     },
     "execution_count": 35,
     "metadata": {},
     "output_type": "execute_result"
    }
   ],
   "source": [
    "amostra_x.head()"
   ]
  },
  {
   "cell_type": "markdown",
   "id": "7ebdb22f",
   "metadata": {},
   "source": [
    "Tendo a amostra com a escalas ajustadas agora precisamos definir o número de clusters (grupos), ou seja o K ideal para a análise <br/>\n",
    "\n",
    "<strong> Podemos utilizar o método de cotovelo (Elbow Method) para encontrarmos o K Ideal <strong>"
   ]
  },
  {
   "cell_type": "code",
   "execution_count": 37,
   "id": "dab4d970",
   "metadata": {},
   "outputs": [],
   "source": [
    "# Percorrendo os diferentes valores de K\n",
    "\n",
    "# criamos uma lista para guardar os valores de k e as inercias\n",
    "valores_k = []\n",
    "inercias = []\n",
    "\n",
    "for i in range(1,10):\n",
    "    kmeans = KMeans(n_clusters = i , random_state = 0).fit(amostra_x[features_cols])\n",
    "    valores_k.append(i)\n",
    "    inercias.append(kmeans.inertia_)"
   ]
  },
  {
   "cell_type": "code",
   "execution_count": 38,
   "id": "bebbe46c",
   "metadata": {},
   "outputs": [
    {
     "data": {
      "image/png": "[encoded data removed]",
      "text/plain": [
       "<Figure size 432x288 with 1 Axes>"
      ]
     },
     "metadata": {},
     "output_type": "display_data"
    }
   ],
   "source": [
    "# criando gráfico para o K ideal\n",
    "\n",
    "sns.lineplot(x = valores_k, y = inercias, palette = 'pastel', linestyle = '--', marker = 'o');"
   ]
  },
  {
   "cell_type": "raw",
   "id": "45fd812f",
   "metadata": {},
   "source": [
    "Observando o gráfico pelo método de cotovelo, o número de Ks ideal se inicia pela curva da linha, assim a quantidade de clusters ideiais parece ser entre 3 e 4. Vamos usar de ínicio o número 4 clusters."
   ]
  },
  {
   "cell_type": "code",
   "execution_count": 39,
   "id": "0a36524a",
   "metadata": {},
   "outputs": [
    {
     "data": {
      "text/plain": [
       "KMeans(n_clusters=4, random_state=0)"
      ]
     },
     "execution_count": 39,
     "metadata": {},
     "output_type": "execute_result"
    }
   ],
   "source": [
    "# definir o número de clusters\n",
    "\n",
    "kmeans = KMeans(n_clusters = 4, random_state = 0)\n",
    "kmeans.fit(amostra_x[features_cols])"
   ]
  },
  {
   "cell_type": "code",
   "execution_count": 40,
   "id": "9d78d4de",
   "metadata": {},
   "outputs": [
    {
     "data": {
      "text/plain": [
       "array([2, 2, 2, 1, 0, 1, 0, 1, 2, 1, 1, 0, 0, 1, 2, 2, 0, 0, 0, 0, 1, 1,\n",
       "       1, 1, 1, 2, 1, 1, 1, 2, 1, 1, 2, 0, 2, 1, 2, 1, 0, 0, 1, 0, 1, 2,\n",
       "       1, 0, 1, 1, 0, 2, 2, 2, 0, 1, 0, 2, 2, 1, 0, 1, 2, 1, 1, 2, 0, 0,\n",
       "       1, 2, 2, 1, 1, 2, 0, 0, 2, 0, 2, 2, 2, 0, 2, 0, 0, 0, 0, 2, 1, 0,\n",
       "       0, 1, 0, 0, 0, 0, 0, 0, 0, 1, 0, 1, 0, 1, 0, 1, 0, 1, 0, 2, 0, 1,\n",
       "       0, 1, 0, 0, 0, 2, 0, 2, 0, 2, 1, 0, 2, 0, 1, 1, 0, 0, 0, 0, 0, 1,\n",
       "       0, 0, 1, 2, 0, 0, 2, 2, 1, 2, 1, 3, 0, 1, 1, 0, 0, 1, 2, 2, 0, 0,\n",
       "       0, 0, 3, 1, 2, 1, 0, 0, 1, 0, 0, 2, 1, 2, 2, 1, 0, 0, 2, 1, 1, 1,\n",
       "       2, 0, 0, 1, 0, 0, 0, 2, 2, 0, 0, 2, 2, 1, 1, 0, 1, 0, 2, 0, 2, 0,\n",
       "       0, 0, 1, 2, 2, 0, 1, 0, 0, 0, 1, 0, 1, 2, 1, 1, 1, 1, 3, 1, 0, 1,\n",
       "       0, 0, 1, 0, 1, 1, 1, 1, 0, 0, 0, 1, 0, 1, 2, 1, 2, 2, 0, 0, 0, 0,\n",
       "       2, 0, 2, 1, 1, 2, 0, 0, 2, 1, 1, 0, 0, 0, 0, 2, 0, 1, 0, 0, 2, 1,\n",
       "       0, 2, 0, 0, 1, 1, 2, 0, 1, 1, 1, 1, 1, 1, 0, 0, 2, 2, 1, 2, 0, 1,\n",
       "       2, 0, 1, 1, 2, 1, 0, 0, 0, 2, 0, 0, 0, 0, 0, 1, 1, 0, 2, 2, 1, 0,\n",
       "       2, 3, 0, 0, 0, 0, 0, 1, 1, 1, 0, 1, 0, 0, 0, 1, 0, 1, 2, 0, 2, 1,\n",
       "       0, 1, 0, 1, 0, 2, 1, 0, 1, 1, 1, 2, 0, 0, 1, 0, 2, 2, 1, 0, 0, 0,\n",
       "       1, 1, 2, 1, 1, 0, 0, 0, 0, 1, 2, 2, 1, 0, 0, 0, 1, 1, 1, 1, 2, 2,\n",
       "       1, 1, 2, 2, 2, 1, 0, 1, 2, 0, 0, 0, 1, 1, 2, 1, 1, 1, 2, 1, 0, 1,\n",
       "       0, 0, 0, 2, 0, 0, 2, 1, 1, 2, 1, 1, 0, 1, 0, 2, 0, 0, 0, 0, 0, 2,\n",
       "       2, 2, 1, 0, 1, 1, 0, 0, 0, 2, 1, 1, 2, 0, 1, 0, 0, 0, 0, 0, 1, 0,\n",
       "       0, 0, 1, 0, 2, 1, 2, 1, 1, 1, 1, 1, 0, 0, 1, 0, 2, 1, 1, 1, 1, 1,\n",
       "       0, 1, 2, 0, 2, 2, 2, 0, 2, 0, 0, 0, 0, 2, 2, 1, 2, 1, 1, 1, 1, 2,\n",
       "       0, 1, 1, 2, 0, 0, 1, 1, 1, 1, 0, 2, 0, 1, 1, 1, 1, 0, 1, 0, 0, 2,\n",
       "       1, 2, 1, 0, 1, 2, 2, 3, 0, 2, 0, 0, 1, 0, 1, 1, 0, 1, 1, 0, 1, 1,\n",
       "       0, 0, 1, 1, 0, 2, 0, 1, 2, 0, 0, 3, 0, 2, 1, 0, 2, 1, 2, 1, 1, 2,\n",
       "       0, 1, 0, 0, 1, 0, 2, 0, 0, 0, 0, 0, 2, 0, 0, 2, 1, 1, 0, 0, 1, 2,\n",
       "       1, 2, 0, 0, 3, 0, 0, 2, 1, 1, 0, 2, 0, 1, 1, 1, 3, 0, 0, 1, 1, 1,\n",
       "       1, 0, 0, 1, 0, 2, 3, 2, 2, 1, 1, 1, 0, 1, 1, 0, 1, 0, 0, 2, 0, 2,\n",
       "       2, 0, 1, 0, 1, 1, 1, 1, 0, 0, 0, 0, 1, 1, 3, 0, 2, 2, 2, 3, 0, 3,\n",
       "       3, 0, 1, 2, 0, 1, 1, 0, 2, 0, 0, 0, 1, 3, 1, 1, 0, 0, 1, 0, 2, 0,\n",
       "       1, 0, 2, 0, 1, 1, 2, 1, 0, 1, 2, 1, 2, 0, 1, 1, 0, 0, 2, 1, 0, 1,\n",
       "       0, 0, 1, 0, 0, 2, 1, 3, 0, 0, 1, 2, 0, 1, 0, 2, 1, 3, 1, 1, 0, 1,\n",
       "       0, 0, 2, 0, 0, 0, 0, 0, 0, 0, 1, 1, 2, 0, 3, 0, 1, 1, 1, 0, 3, 2,\n",
       "       0, 0, 1, 1, 0, 1, 0, 1, 0, 0, 3, 2, 0, 1, 1, 2, 1, 0, 2, 1, 1, 0,\n",
       "       1, 0], dtype=int32)"
      ]
     },
     "execution_count": 40,
     "metadata": {},
     "output_type": "execute_result"
    }
   ],
   "source": [
    "# os clusters definidos\n",
    "\n",
    "kmeans.labels_"
   ]
  },
  {
   "cell_type": "code",
   "execution_count": 41,
   "id": "f0ad7fbb",
   "metadata": {},
   "outputs": [],
   "source": [
    "# atribuir os clusters aos clientes\n",
    "\n",
    "amostra['cluster'] = kmeans.labels_"
   ]
  },
  {
   "cell_type": "code",
   "execution_count": 42,
   "id": "9ec8fc87",
   "metadata": {},
   "outputs": [
    {
     "data": {
      "text/html": [
       "<div>\n",
       "<style scoped>\n",
       "    .dataframe tbody tr th:only-of-type {\n",
       "        vertical-align: middle;\n",
       "    }\n",
       "\n",
       "    .dataframe tbody tr th {\n",
       "        vertical-align: top;\n",
       "    }\n",
       "\n",
       "    .dataframe thead th {\n",
       "        text-align: right;\n",
       "    }\n",
       "</style>\n",
       "<table border=\"1\" class=\"dataframe\">\n",
       "  <thead>\n",
       "    <tr style=\"text-align: right;\">\n",
       "      <th></th>\n",
       "      <th>customer_id</th>\n",
       "      <th>recency</th>\n",
       "      <th>frequency</th>\n",
       "      <th>monetary_value</th>\n",
       "      <th>cluster</th>\n",
       "    </tr>\n",
       "  </thead>\n",
       "  <tbody>\n",
       "    <tr>\n",
       "      <th>7638</th>\n",
       "      <td>C712134032</td>\n",
       "      <td>483</td>\n",
       "      <td>1</td>\n",
       "      <td>179.38</td>\n",
       "      <td>2</td>\n",
       "    </tr>\n",
       "    <tr>\n",
       "      <th>19145</th>\n",
       "      <td>C736534163</td>\n",
       "      <td>173</td>\n",
       "      <td>2</td>\n",
       "      <td>138.89</td>\n",
       "      <td>2</td>\n",
       "    </tr>\n",
       "    <tr>\n",
       "      <th>7574</th>\n",
       "      <td>C711694244</td>\n",
       "      <td>486</td>\n",
       "      <td>1</td>\n",
       "      <td>174.20</td>\n",
       "      <td>2</td>\n",
       "    </tr>\n",
       "    <tr>\n",
       "      <th>1500</th>\n",
       "      <td>C679266360</td>\n",
       "      <td>695</td>\n",
       "      <td>1</td>\n",
       "      <td>104.59</td>\n",
       "      <td>1</td>\n",
       "    </tr>\n",
       "    <tr>\n",
       "      <th>24376</th>\n",
       "      <td>C740533553</td>\n",
       "      <td>36</td>\n",
       "      <td>1</td>\n",
       "      <td>74.90</td>\n",
       "      <td>0</td>\n",
       "    </tr>\n",
       "  </tbody>\n",
       "</table>\n",
       "</div>"
      ],
      "text/plain": [
       "      customer_id  recency  frequency  monetary_value  cluster\n",
       "7638   C712134032      483          1          179.38        2\n",
       "19145  C736534163      173          2          138.89        2\n",
       "7574   C711694244      486          1          174.20        2\n",
       "1500   C679266360      695          1          104.59        1\n",
       "24376  C740533553       36          1           74.90        0"
      ]
     },
     "execution_count": 42,
     "metadata": {},
     "output_type": "execute_result"
    }
   ],
   "source": [
    "amostra.head()"
   ]
  },
  {
   "cell_type": "code",
   "execution_count": 43,
   "id": "6c5e1e88",
   "metadata": {},
   "outputs": [
    {
     "data": {
      "text/plain": [
       "0    307\n",
       "1    266\n",
       "2    158\n",
       "3     19\n",
       "Name: cluster, dtype: int64"
      ]
     },
     "execution_count": 43,
     "metadata": {},
     "output_type": "execute_result"
    }
   ],
   "source": [
    "# clientes em cada cluster\n",
    "\n",
    "amostra['cluster'].value_counts().sort_index()"
   ]
  },
  {
   "cell_type": "markdown",
   "id": "dc534cf6",
   "metadata": {},
   "source": [
    "### 8. Análise Gráfica"
   ]
  },
  {
   "cell_type": "code",
   "execution_count": 45,
   "id": "57687e9f",
   "metadata": {},
   "outputs": [
    {
     "data": {
      "image/png": "[encoded data removed]",
      "text/plain": [
       "<Figure size 689.85x360 with 1 Axes>"
      ]
     },
     "metadata": {},
     "output_type": "display_data"
    }
   ],
   "source": [
    "ax = sns.relplot(x = 'recency',\n",
    "                 y = 'monetary_value',\n",
    "                 data = amostra,\n",
    "                 height = 5,\n",
    "                 aspect = 1.7,\n",
    "                 hue  = 'cluster',\n",
    "                 size = 'frequency',\n",
    "                 palette = 'pastel')"
   ]
  },
  {
   "cell_type": "code",
   "execution_count": 46,
   "id": "04223118",
   "metadata": {},
   "outputs": [
    {
     "data": {
      "image/png": "[encoded data removed]",
      "text/plain": [
       "<Figure size 589.8x360 with 1 Axes>"
      ]
     },
     "metadata": {},
     "output_type": "display_data"
    }
   ],
   "source": [
    "_ = sns.relplot(x = 'frequency',\n",
    "                y = 'recency',\n",
    "                data = amostra,\n",
    "                height = 5,\n",
    "                aspect = 1.5,\n",
    "                hue = 'cluster',\n",
    "                palette = 'pastel')"
   ]
  },
  {
   "cell_type": "markdown",
   "id": "ccfa1c05",
   "metadata": {},
   "source": [
    "###  9.  Comportamento dos Clusters "
   ]
  },
  {
   "cell_type": "code",
   "execution_count": 48,
   "id": "0fa0b62b",
   "metadata": {},
   "outputs": [
    {
     "data": {
      "image/png": "[encoded data removed]",
      "text/plain": [
       "<Figure size 432x288 with 1 Axes>"
      ]
     },
     "metadata": {},
     "output_type": "display_data"
    }
   ],
   "source": [
    "_ = sns.boxplot(data = amostra, x= 'cluster', y = 'recency', palette = 'pastel')"
   ]
  },
  {
   "cell_type": "code",
   "execution_count": 49,
   "id": "320a2858",
   "metadata": {},
   "outputs": [
    {
     "data": {
      "image/png": "[encoded data removed]",
      "text/plain": [
       "<Figure size 432x288 with 1 Axes>"
      ]
     },
     "metadata": {},
     "output_type": "display_data"
    }
   ],
   "source": [
    "_ = sns.boxplot(data = amostra, x= 'cluster', y = 'frequency', palette = 'pastel')"
   ]
  },
  {
   "cell_type": "code",
   "execution_count": 50,
   "id": "d66ee9fe",
   "metadata": {},
   "outputs": [
    {
     "data": {
      "image/png": "[encoded data removed]",
      "text/plain": [
       "<Figure size 432x288 with 1 Axes>"
      ]
     },
     "metadata": {},
     "output_type": "display_data"
    }
   ],
   "source": [
    "_ = sns.boxplot(data = amostra, x= 'cluster', y = 'monetary_value', palette = 'pastel')"
   ]
  },
  {
   "cell_type": "markdown",
   "id": "1e195a8d",
   "metadata": {},
   "source": [
    "Com os gráficos demonstrados percebemos que os clusters estão separados de acordo com cada comportamento e característica de um grupo de clientes, sendo as segmentações:\n",
    "\n",
    "- Cluster 0 -> Clientes que compraram recentemente na loja ou até mesmo novos clientes\n",
    "- Cluster 1 -> Clientes que compraram a muito tempo e não compraram mais.\n",
    "- Cluster 2 -> Clientes que em média gastam um valor monétario maior em suas compras.\n",
    "- Cluster 3 -> Clientes que compram com maior frequência na loja."
   ]
  },
  {
   "cell_type": "code",
   "execution_count": 52,
   "id": "cd224fc4",
   "metadata": {},
   "outputs": [],
   "source": [
    "seg_clientes = amostra.groupby('cluster')[['recency', 'frequency', 'monetary_value']].agg({'recency': 'mean',\n",
    "                                                                           'frequency': 'mean',\n",
    "                                                                           'monetary_value': 'mean'\n",
    "                                                                          }).reset_index()"
   ]
  },
  {
   "cell_type": "code",
   "execution_count": 53,
   "id": "a66fe3a7",
   "metadata": {
    "scrolled": true
   },
   "outputs": [
    {
     "data": {
      "text/html": [
       "<div>\n",
       "<style scoped>\n",
       "    .dataframe tbody tr th:only-of-type {\n",
       "        vertical-align: middle;\n",
       "    }\n",
       "\n",
       "    .dataframe tbody tr th {\n",
       "        vertical-align: top;\n",
       "    }\n",
       "\n",
       "    .dataframe thead th {\n",
       "        text-align: right;\n",
       "    }\n",
       "</style>\n",
       "<table border=\"1\" class=\"dataframe\">\n",
       "  <thead>\n",
       "    <tr style=\"text-align: right;\">\n",
       "      <th></th>\n",
       "      <th>cluster</th>\n",
       "      <th>recency</th>\n",
       "      <th>frequency</th>\n",
       "      <th>monetary_value</th>\n",
       "    </tr>\n",
       "  </thead>\n",
       "  <tbody>\n",
       "    <tr>\n",
       "      <th>0</th>\n",
       "      <td>0</td>\n",
       "      <td>164.830619</td>\n",
       "      <td>1.068404</td>\n",
       "      <td>85.303583</td>\n",
       "    </tr>\n",
       "    <tr>\n",
       "      <th>1</th>\n",
       "      <td>1</td>\n",
       "      <td>537.582707</td>\n",
       "      <td>1.067669</td>\n",
       "      <td>80.055526</td>\n",
       "    </tr>\n",
       "    <tr>\n",
       "      <th>2</th>\n",
       "      <td>2</td>\n",
       "      <td>335.949367</td>\n",
       "      <td>1.094937</td>\n",
       "      <td>175.811899</td>\n",
       "    </tr>\n",
       "    <tr>\n",
       "      <th>3</th>\n",
       "      <td>3</td>\n",
       "      <td>277.210526</td>\n",
       "      <td>4.157895</td>\n",
       "      <td>106.906842</td>\n",
       "    </tr>\n",
       "  </tbody>\n",
       "</table>\n",
       "</div>"
      ],
      "text/plain": [
       "   cluster     recency  frequency  monetary_value\n",
       "0        0  164.830619   1.068404       85.303583\n",
       "1        1  537.582707   1.067669       80.055526\n",
       "2        2  335.949367   1.094937      175.811899\n",
       "3        3  277.210526   4.157895      106.906842"
      ]
     },
     "execution_count": 53,
     "metadata": {},
     "output_type": "execute_result"
    }
   ],
   "source": [
    "seg_clientes.sort_index()"
   ]
  },
  {
   "cell_type": "code",
   "execution_count": 54,
   "id": "71e1f57c",
   "metadata": {},
   "outputs": [],
   "source": [
    "# Vamos nomear esses clientes de acordo com seus comportamentos\n",
    "\n",
    "seg_map = ['Opportunity', 'Risk', 'Champion', 'Loyal']"
   ]
  },
  {
   "cell_type": "code",
   "execution_count": 55,
   "id": "fdd428dd",
   "metadata": {},
   "outputs": [
    {
     "data": {
      "text/html": [
       "<div>\n",
       "<style scoped>\n",
       "    .dataframe tbody tr th:only-of-type {\n",
       "        vertical-align: middle;\n",
       "    }\n",
       "\n",
       "    .dataframe tbody tr th {\n",
       "        vertical-align: top;\n",
       "    }\n",
       "\n",
       "    .dataframe thead th {\n",
       "        text-align: right;\n",
       "    }\n",
       "</style>\n",
       "<table border=\"1\" class=\"dataframe\">\n",
       "  <thead>\n",
       "    <tr style=\"text-align: right;\">\n",
       "      <th></th>\n",
       "      <th>cluster</th>\n",
       "      <th>recency</th>\n",
       "      <th>frequency</th>\n",
       "      <th>monetary_value</th>\n",
       "      <th>agrupamento</th>\n",
       "    </tr>\n",
       "  </thead>\n",
       "  <tbody>\n",
       "    <tr>\n",
       "      <th>0</th>\n",
       "      <td>0</td>\n",
       "      <td>164.830619</td>\n",
       "      <td>1.068404</td>\n",
       "      <td>85.303583</td>\n",
       "      <td>Opportunity</td>\n",
       "    </tr>\n",
       "    <tr>\n",
       "      <th>1</th>\n",
       "      <td>1</td>\n",
       "      <td>537.582707</td>\n",
       "      <td>1.067669</td>\n",
       "      <td>80.055526</td>\n",
       "      <td>Risk</td>\n",
       "    </tr>\n",
       "    <tr>\n",
       "      <th>2</th>\n",
       "      <td>2</td>\n",
       "      <td>335.949367</td>\n",
       "      <td>1.094937</td>\n",
       "      <td>175.811899</td>\n",
       "      <td>Champion</td>\n",
       "    </tr>\n",
       "    <tr>\n",
       "      <th>3</th>\n",
       "      <td>3</td>\n",
       "      <td>277.210526</td>\n",
       "      <td>4.157895</td>\n",
       "      <td>106.906842</td>\n",
       "      <td>Loyal</td>\n",
       "    </tr>\n",
       "  </tbody>\n",
       "</table>\n",
       "</div>"
      ],
      "text/plain": [
       "   cluster     recency  frequency  monetary_value  agrupamento\n",
       "0        0  164.830619   1.068404       85.303583  Opportunity\n",
       "1        1  537.582707   1.067669       80.055526         Risk\n",
       "2        2  335.949367   1.094937      175.811899     Champion\n",
       "3        3  277.210526   4.157895      106.906842        Loyal"
      ]
     },
     "execution_count": 55,
     "metadata": {},
     "output_type": "execute_result"
    }
   ],
   "source": [
    "seg_clientes['agrupamento'] = seg_map\n",
    "seg_clientes"
   ]
  },
  {
   "cell_type": "code",
   "execution_count": 56,
   "id": "e2ee6517-1a13-4087-b8ae-90c4d35cf359",
   "metadata": {},
   "outputs": [
    {
     "data": {
      "text/html": [
       "<div>\n",
       "<style scoped>\n",
       "    .dataframe tbody tr th:only-of-type {\n",
       "        vertical-align: middle;\n",
       "    }\n",
       "\n",
       "    .dataframe tbody tr th {\n",
       "        vertical-align: top;\n",
       "    }\n",
       "\n",
       "    .dataframe thead th {\n",
       "        text-align: right;\n",
       "    }\n",
       "</style>\n",
       "<table border=\"1\" class=\"dataframe\">\n",
       "  <thead>\n",
       "    <tr style=\"text-align: right;\">\n",
       "      <th></th>\n",
       "      <th>recency</th>\n",
       "      <th>frequency</th>\n",
       "      <th>monetary_value</th>\n",
       "      <th>cluster</th>\n",
       "    </tr>\n",
       "  </thead>\n",
       "  <tbody>\n",
       "    <tr>\n",
       "      <th>count</th>\n",
       "      <td>750.000000</td>\n",
       "      <td>750.000000</td>\n",
       "      <td>750.000000</td>\n",
       "      <td>750.000000</td>\n",
       "    </tr>\n",
       "    <tr>\n",
       "      <th>mean</th>\n",
       "      <td>335.929333</td>\n",
       "      <td>1.152000</td>\n",
       "      <td>103.056640</td>\n",
       "      <td>0.852000</td>\n",
       "    </tr>\n",
       "    <tr>\n",
       "      <th>std</th>\n",
       "      <td>199.752027</td>\n",
       "      <td>0.585394</td>\n",
       "      <td>49.779176</td>\n",
       "      <td>0.836877</td>\n",
       "    </tr>\n",
       "    <tr>\n",
       "      <th>min</th>\n",
       "      <td>0.000000</td>\n",
       "      <td>1.000000</td>\n",
       "      <td>4.690000</td>\n",
       "      <td>0.000000</td>\n",
       "    </tr>\n",
       "    <tr>\n",
       "      <th>25%</th>\n",
       "      <td>170.000000</td>\n",
       "      <td>1.000000</td>\n",
       "      <td>70.260000</td>\n",
       "      <td>0.000000</td>\n",
       "    </tr>\n",
       "    <tr>\n",
       "      <th>50%</th>\n",
       "      <td>329.500000</td>\n",
       "      <td>1.000000</td>\n",
       "      <td>92.895000</td>\n",
       "      <td>1.000000</td>\n",
       "    </tr>\n",
       "    <tr>\n",
       "      <th>75%</th>\n",
       "      <td>489.250000</td>\n",
       "      <td>1.000000</td>\n",
       "      <td>124.575000</td>\n",
       "      <td>1.000000</td>\n",
       "    </tr>\n",
       "    <tr>\n",
       "      <th>max</th>\n",
       "      <td>725.000000</td>\n",
       "      <td>7.000000</td>\n",
       "      <td>437.490000</td>\n",
       "      <td>3.000000</td>\n",
       "    </tr>\n",
       "  </tbody>\n",
       "</table>\n",
       "</div>"
      ],
      "text/plain": [
       "          recency   frequency  monetary_value     cluster\n",
       "count  750.000000  750.000000      750.000000  750.000000\n",
       "mean   335.929333    1.152000      103.056640    0.852000\n",
       "std    199.752027    0.585394       49.779176    0.836877\n",
       "min      0.000000    1.000000        4.690000    0.000000\n",
       "25%    170.000000    1.000000       70.260000    0.000000\n",
       "50%    329.500000    1.000000       92.895000    1.000000\n",
       "75%    489.250000    1.000000      124.575000    1.000000\n",
       "max    725.000000    7.000000      437.490000    3.000000"
      ]
     },
     "execution_count": 56,
     "metadata": {},
     "output_type": "execute_result"
    }
   ],
   "source": [
    "amostra.describe()"
   ]
  },
  {
   "cell_type": "code",
   "execution_count": 57,
   "id": "17d4ec07-d9eb-4cb6-9571-06df8c1eeb73",
   "metadata": {},
   "outputs": [],
   "source": [
    "# aplicar as nomeações no dataframe\n",
    "\n",
    "agrupamento = ['opportunity', 'risk', 'champion', 'champion']\n",
    "\n",
    "condicoes = [\n",
    "    (amostra['cluster'] == 0),\n",
    "    (amostra['cluster'] == 1),\n",
    "    (amostra['cluster'] == 2),\n",
    "    (amostra['cluster'] == 3)\n",
    "]\n",
    "\n",
    "amostra['grupo'] = np.select(condicoes, agrupamento, default = np.nan)"
   ]
  },
  {
   "cell_type": "code",
   "execution_count": 58,
   "id": "b591061d-17f1-4671-98fa-1d192683fd65",
   "metadata": {},
   "outputs": [
    {
     "data": {
      "text/html": [
       "<div>\n",
       "<style scoped>\n",
       "    .dataframe tbody tr th:only-of-type {\n",
       "        vertical-align: middle;\n",
       "    }\n",
       "\n",
       "    .dataframe tbody tr th {\n",
       "        vertical-align: top;\n",
       "    }\n",
       "\n",
       "    .dataframe thead th {\n",
       "        text-align: right;\n",
       "    }\n",
       "</style>\n",
       "<table border=\"1\" class=\"dataframe\">\n",
       "  <thead>\n",
       "    <tr style=\"text-align: right;\">\n",
       "      <th></th>\n",
       "      <th>customer_id</th>\n",
       "      <th>recency</th>\n",
       "      <th>frequency</th>\n",
       "      <th>monetary_value</th>\n",
       "    </tr>\n",
       "  </thead>\n",
       "  <tbody>\n",
       "    <tr>\n",
       "      <th>0</th>\n",
       "      <td>C537953795</td>\n",
       "      <td>386</td>\n",
       "      <td>2</td>\n",
       "      <td>56.15</td>\n",
       "    </tr>\n",
       "    <tr>\n",
       "      <th>1</th>\n",
       "      <td>C537953859</td>\n",
       "      <td>235</td>\n",
       "      <td>12</td>\n",
       "      <td>66.60</td>\n",
       "    </tr>\n",
       "    <tr>\n",
       "      <th>2</th>\n",
       "      <td>C537954768</td>\n",
       "      <td>312</td>\n",
       "      <td>4</td>\n",
       "      <td>73.05</td>\n",
       "    </tr>\n",
       "    <tr>\n",
       "      <th>3</th>\n",
       "      <td>C537954812</td>\n",
       "      <td>530</td>\n",
       "      <td>2</td>\n",
       "      <td>111.94</td>\n",
       "    </tr>\n",
       "    <tr>\n",
       "      <th>4</th>\n",
       "      <td>C537954872</td>\n",
       "      <td>295</td>\n",
       "      <td>2</td>\n",
       "      <td>167.00</td>\n",
       "    </tr>\n",
       "  </tbody>\n",
       "</table>\n",
       "</div>"
      ],
      "text/plain": [
       "  customer_id  recency  frequency  monetary_value\n",
       "0  C537953795      386          2           56.15\n",
       "1  C537953859      235         12           66.60\n",
       "2  C537954768      312          4           73.05\n",
       "3  C537954812      530          2          111.94\n",
       "4  C537954872      295          2          167.00"
      ]
     },
     "execution_count": 58,
     "metadata": {},
     "output_type": "execute_result"
    }
   ],
   "source": [
    "rfv.head()"
   ]
  },
  {
   "cell_type": "code",
   "execution_count": 59,
   "id": "d4aad85e-2cf5-48b3-a3e0-696ab816f365",
   "metadata": {},
   "outputs": [
    {
     "data": {
      "text/plain": [
       "opportunity    307\n",
       "risk           266\n",
       "champion       177\n",
       "Name: grupo, dtype: int64"
      ]
     },
     "execution_count": 59,
     "metadata": {},
     "output_type": "execute_result"
    }
   ],
   "source": [
    "amostra['grupo'].value_counts()"
   ]
  },
  {
   "cell_type": "markdown",
   "id": "f6090c8a-9cc2-45bc-b303-f0a612a3b40c",
   "metadata": {},
   "source": [
    "###  10 . Solução Final"
   ]
  },
  {
   "cell_type": "markdown",
   "id": "b6d7f5b1-5b25-42db-9130-693075d7f6ed",
   "metadata": {},
   "source": [
    "Terminamos a análise e agora vamos responder as questões feitas no início desse estudo?\n",
    "\n",
    "<strong> - Quais são os melhores clientes ? Quais os comportamentos desses clientes? <strong />\n",
    "\n",
    " R: Os melhores clientes estão localizados no grupo 'loyal' (clientes que compram com maior frequência) e 'champion' (clientes que gastam um valor monetário maior em suas compras)\n",
    "\n",
    "<strong> - Quais são os clientes com risco de churn (abandono) ? <strong />\n",
    "\n",
    " R: Os clientes com possível churn estã localizados no grupo 'risk', pois possuem uma recência maior, ou seja estão há muito tempo sem comprar na loja\n",
    "\n",
    "    \n",
    "<strong > - Quais clientes tem um maior potencial de ganho para a empresa? <strong />\n",
    "    \n",
    " R: Considerando a análise os grupos loyal, champion e opportunity sãos os principais clientes com maior potencial de ganho para empresa, nos aspectos de prospecção de clientes, aumento do ticket médio, e constância de compras.\n",
    "    \n",
    "    "
   ]
  }
 ],
 "metadata": {
  "colab": {
   "provenance": [],
   "toc_visible": true
  },
  "kernelspec": {
   "display_name": "anaconda-2022.05-py39",
   "language": "python",
   "name": "conda-env-anaconda-2022.05-py39-py"
  },
  "language_info": {
   "codemirror_mode": {
    "name": "ipython",
    "version": 3
   },
   "file_extension": ".py",
   "mimetype": "text/x-python",
   "name": "python",
   "nbconvert_exporter": "python",
   "pygments_lexer": "ipython3",
   "version": "3.9.12"
  }
 },
 "nbformat": 4,
 "nbformat_minor": 5
}
